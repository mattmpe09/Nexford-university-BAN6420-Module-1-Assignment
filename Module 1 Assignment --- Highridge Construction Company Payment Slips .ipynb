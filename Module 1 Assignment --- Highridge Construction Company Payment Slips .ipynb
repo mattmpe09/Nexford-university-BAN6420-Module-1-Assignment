{
 "cells": [
  {
   "cell_type": "code",
   "execution_count": null,
   "id": "3961d443",
   "metadata": {},
   "outputs": [],
   "source": [
    "# Module 1 Assignment: Highridge Construction Company Payment Slips\n",
    "# First step is to import the random module to generate random workers \n",
    "import random\n",
    "\n",
    "# Step 2: Create two variables 'worker' and genders to dynamically generate a list of 400 worker dictionaries\n",
    "workers = [] # Creates an empty list\n",
    "genders = ['Male', 'Female'] # Create a list if two items male and female\n",
    "# Create an iteration using j as the variable to loop from 0 - 399\n",
    "# id for each worker\n",
    "# n as name of each worker\n",
    "# s as salary of each worker\n",
    "# g as gender of each worker\n",
    "salary = 'sal'\n",
    "gender = 'gen'\n",
    "for j in range(400):\n",
    "    worker = {\n",
    "        'id': f'EMP{j+1}',\n",
    "        'n': f'Worker_{j+1}',\n",
    "        's': random.randint(7000, 33000),\n",
    "        'g': random.choice(genders)\n",
    "    }\n",
    "    workers.append(worker)\n",
    "\n",
    "# Steps 3, 4 and 5 will generate for payment slips for each worker with conditions and exception handling\n",
    "for worker in workers:\n",
    "    try:\n",
    "        emp_id = worker['id']\n",
    "        name = worker['n']\n",
    "        sal = worker['s']\n",
    "        gen = worker['g']\n",
    "        level = \"Unspecified\"\n",
    "        \n",
    "\n",
    "        if 10000 < sal < 20000:\n",
    "            level = \"A1\"\n",
    "        if 7500 < sal < 30000 and gender == \"Female\":\n",
    "            level = \"A5-F\"\n",
    "\n",
    "        # Generate payment slip (printed here for demo purposes)\n",
    "        print(f\"Payment Slip - {emp_id}\")\n",
    "        print(f\"Name        : {name}\")\n",
    "        print(f\"Salary      : ${sal}\")\n",
    "        print(f\"Gender      : {gen}\")\n",
    "        print(f\"Employee Level: {level}\")\n",
    "        print(\"*-\" * 15)\n",
    "\n",
    "    except Exception as e:\n",
    "        print(f\"Error processing worker {worker.get('id', 'Unknown')}: {e}\")"
   ]
  }
 ],
 "metadata": {
  "kernelspec": {
   "display_name": "Python 3 (ipykernel)",
   "language": "python",
   "name": "python3"
  },
  "language_info": {
   "codemirror_mode": {
    "name": "ipython",
    "version": 3
   },
   "file_extension": ".py",
   "mimetype": "text/x-python",
   "name": "python",
   "nbconvert_exporter": "python",
   "pygments_lexer": "ipython3",
   "version": "3.9.12"
  }
 },
 "nbformat": 4,
 "nbformat_minor": 5
}
